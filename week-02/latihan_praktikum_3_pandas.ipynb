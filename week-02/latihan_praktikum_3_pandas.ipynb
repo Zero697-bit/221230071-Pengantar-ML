{
  "nbformat": 4,
  "nbformat_minor": 0,
  "metadata": {
    "colab": {
      "provenance": [],
      "authorship_tag": "ABX9TyNdoxo4ADjQWBc027Vmy5y0",
      "include_colab_link": true
    },
    "kernelspec": {
      "name": "python3",
      "display_name": "Python 3"
    },
    "language_info": {
      "name": "python"
    }
  },
  "cells": [
    {
      "cell_type": "markdown",
      "metadata": {
        "id": "view-in-github",
        "colab_type": "text"
      },
      "source": [
        "<a href=\"https://colab.research.google.com/github/Zero697-bit/221230071-Pengantar-ML/blob/main/week-02/latihan_praktikum_3_pandas.ipynb\" target=\"_parent\"><img src=\"https://colab.research.google.com/assets/colab-badge.svg\" alt=\"Open In Colab\"/></a>"
      ]
    },
    {
      "cell_type": "markdown",
      "source": [
        "🏋️ LATIHAN 3: OPERASI PANDAS UNTUK DATA ANALYSIS"
      ],
      "metadata": {
        "id": "BbrXdc5ofZ2K"
      }
    },
    {
      "cell_type": "markdown",
      "source": [
        "EXPLORATORY DATA ANALYSIS"
      ],
      "metadata": {
        "id": "dKv9wJ_pfbYI"
      }
    },
    {
      "cell_type": "code",
      "source": [
        "import pandas as pd\n",
        "import numpy as np"
      ],
      "metadata": {
        "id": "1IPS9KrZfjP_"
      },
      "execution_count": null,
      "outputs": []
    },
    {
      "cell_type": "code",
      "source": [
        "# ==========================================\n",
        "# TASK: Analisis Dataset Retail dengan Pandas\n",
        "# ==========================================\n",
        "\n",
        "# Buat dataset simulasi transaksi retail\n",
        "np.random.seed(42)\n",
        "dates = pd.date_range('2023-01-01', '2023-03-31', freq='D')\n",
        "\n",
        "retail_data = pd.DataFrame({\n",
        "    'date': np.random.choice(dates, 1000),           # tanggal transaksi acak\n",
        "    'product_id': np.random.randint(1, 11, 1000),    # 10 produk (id 1–10)\n",
        "    'quantity': np.random.randint(1, 10, 1000),      # jumlah barang per transaksi\n",
        "    'price': np.random.uniform(10, 100, 1000),       # harga barang acak\n",
        "    'customer_id': np.random.randint(1, 101, 1000)   # 100 pelanggan\n",
        "})\n",
        "\n",
        "# Hitung revenue per transaksi\n",
        "retail_data['revenue'] = retail_data['quantity'] * retail_data['price']\n",
        "\n",
        "# ------------------------------------------------------\n",
        "# TASK 1: Total revenue per product\n",
        "# ------------------------------------------------------\n",
        "revenue_per_product = (\n",
        "    retail_data.groupby('product_id')['revenue']\n",
        "    .sum()\n",
        "    .sort_values(ascending=False)\n",
        ")\n",
        "\n",
        "# ------------------------------------------------------\n",
        "# TASK 2: Top 5 customers berdasarkan total spending\n",
        "# ------------------------------------------------------\n",
        "top_customers = (\n",
        "    retail_data.groupby('customer_id')['revenue']\n",
        "    .sum()\n",
        "    .nlargest(5)\n",
        ")\n",
        "\n",
        "# ------------------------------------------------------\n",
        "# TASK 3: Analisis time series - revenue per hari\n",
        "# ------------------------------------------------------\n",
        "daily_revenue = retail_data.groupby('date')['revenue'].sum()\n",
        "\n",
        "# ------------------------------------------------------\n",
        "# TASK 4: Deteksi anomali pada quantity\n",
        "# Metode: Z-score > threshold\n",
        "# ------------------------------------------------------\n",
        "def detect_quantity_anomalies(df, threshold=2):\n",
        "    mean_qty = df['quantity'].mean()\n",
        "    std_qty = df['quantity'].std()\n",
        "\n",
        "    df = df.copy()\n",
        "    df['quantity_zscore'] = (df['quantity'] - mean_qty) / std_qty\n",
        "\n",
        "    anomalies = df[np.abs(df['quantity_zscore']) > threshold]\n",
        "    return anomalies\n",
        "\n",
        "anomalies = detect_quantity_anomalies(retail_data)\n",
        "\n",
        "# ------------------------------------------------------\n",
        "# OUTPUT\n",
        "# ------------------------------------------------------\n",
        "print(\"=== RETAIL DATA ANALYSIS ===\")\n",
        "\n",
        "print(\"\\n1. Revenue per Product:\")\n",
        "print(revenue_per_product)\n",
        "\n",
        "print(\"\\n2. Top 5 Customers by Spending:\")\n",
        "print(top_customers)\n",
        "\n",
        "print(\"\\n3. Daily Revenue (first 10 days):\")\n",
        "print(daily_revenue.head(10))\n",
        "\n",
        "print(f\"\\n4. Quantity Anomalies detected: {len(anomalies)}\")\n",
        "print(\"Anomalies sample:\")\n",
        "print(anomalies[['date', 'product_id', 'quantity', 'quantity_zscore']].head())\n",
        "\n",
        "# ------------------------------------------------------\n",
        "# BONUS: Analisis Lanjutan\n",
        "# ------------------------------------------------------\n",
        "print(\"\\n=== BONUS ANALYSIS ===\")\n",
        "\n",
        "# Monthly revenue trend\n",
        "retail_data['month'] = retail_data['date'].dt.month\n",
        "monthly_revenue = retail_data.groupby('month')['revenue'].sum()\n",
        "print(\"\\nMonthly Revenue:\")\n",
        "print(monthly_revenue)\n",
        "\n",
        "# Customer segmentation (total, rata-rata spending, frekuensi transaksi, rata-rata quantity)\n",
        "customer_stats = (\n",
        "    retail_data.groupby('customer_id')\n",
        "    .agg({\n",
        "        'revenue': ['sum', 'mean', 'count'],\n",
        "        'quantity': 'mean'\n",
        "    })\n",
        "    .round(2)\n",
        ")\n",
        "print(\"\\nCustomer Statistics (first 5):\")\n",
        "print(customer_stats.head())\n",
        "\n",
        "# ------------------------------------------------------\n",
        "# TEST ASSERTIONS (validasi hasil)\n",
        "# ------------------------------------------------------\n",
        "assert len(revenue_per_product) <= 10, \"Should have max 10 products\"\n",
        "assert len(top_customers) == 5, \"Should have top 5 customers\"\n",
        "assert len(daily_revenue) > 0, \"Should have daily revenue data\"\n"
      ],
      "metadata": {
        "colab": {
          "base_uri": "https://localhost:8080/"
        },
        "id": "bWPOhuvNfhXJ",
        "outputId": "35adb972-1ff6-44e9-95f9-8ff3748f61c5"
      },
      "execution_count": null,
      "outputs": [
        {
          "output_type": "stream",
          "name": "stdout",
          "text": [
            "=== RETAIL DATA ANALYSIS ===\n",
            "\n",
            "1. Revenue per Product:\n",
            "product_id\n",
            "8     32062.915807\n",
            "9     30812.566464\n",
            "7     30786.212454\n",
            "5     29894.628309\n",
            "6     29771.241361\n",
            "2     28433.373576\n",
            "3     27360.489903\n",
            "10    25146.428705\n",
            "1     24953.204554\n",
            "4     23950.525430\n",
            "Name: revenue, dtype: float64\n",
            "\n",
            "2. Top 5 Customers by Spending:\n",
            "customer_id\n",
            "38    5239.536260\n",
            "59    5185.221233\n",
            "89    4759.149270\n",
            "94    4690.528278\n",
            "15    4657.289888\n",
            "Name: revenue, dtype: float64\n",
            "\n",
            "3. Daily Revenue (first 10 days):\n",
            "date\n",
            "2023-01-01    5268.121555\n",
            "2023-01-02    4656.102661\n",
            "2023-01-03    3226.578585\n",
            "2023-01-04    2462.071219\n",
            "2023-01-05    3741.645829\n",
            "2023-01-06    2617.910977\n",
            "2023-01-07    2503.241611\n",
            "2023-01-08    5032.490882\n",
            "2023-01-09    4344.183819\n",
            "2023-01-10    1700.299375\n",
            "Name: revenue, dtype: float64\n",
            "\n",
            "4. Quantity Anomalies detected: 0\n",
            "Anomalies sample:\n",
            "Empty DataFrame\n",
            "Columns: [date, product_id, quantity, quantity_zscore]\n",
            "Index: []\n",
            "\n",
            "=== BONUS ANALYSIS ===\n",
            "\n",
            "Monthly Revenue:\n",
            "month\n",
            "1    100160.076018\n",
            "2     85508.989681\n",
            "3     97502.520863\n",
            "Name: revenue, dtype: float64\n",
            "\n",
            "Customer Statistics (first 5):\n",
            "             revenue               quantity\n",
            "                 sum    mean count     mean\n",
            "customer_id                                \n",
            "1            1830.06  261.44     7     5.00\n",
            "2            2460.09  351.44     7     5.57\n",
            "3            2174.72  271.84     8     3.88\n",
            "4            4275.46  328.88    13     5.77\n",
            "5            1638.88  204.86     8     5.12\n"
          ]
        }
      ]
    }
  ]
}