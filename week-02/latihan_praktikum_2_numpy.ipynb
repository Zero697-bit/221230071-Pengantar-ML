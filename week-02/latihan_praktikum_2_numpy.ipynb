{
  "nbformat": 4,
  "nbformat_minor": 0,
  "metadata": {
    "colab": {
      "provenance": [],
      "authorship_tag": "ABX9TyNcTGDbSbTKKxfLDqOwFfGb",
      "include_colab_link": true
    },
    "kernelspec": {
      "name": "python3",
      "display_name": "Python 3"
    },
    "language_info": {
      "name": "python"
    }
  },
  "cells": [
    {
      "cell_type": "markdown",
      "metadata": {
        "id": "view-in-github",
        "colab_type": "text"
      },
      "source": [
        "<a href=\"https://colab.research.google.com/github/Zero697-bit/221230071-Pengantar-ML/blob/main/week-02/latihan_praktikum_2_numpy.ipynb\" target=\"_parent\"><img src=\"https://colab.research.google.com/assets/colab-badge.svg\" alt=\"Open In Colab\"/></a>"
      ]
    },
    {
      "cell_type": "markdown",
      "source": [
        "🏋️ LATIHAN 2: OPERASI NUMPY UNTUK MACHINE LEARNING"
      ],
      "metadata": {
        "id": "pN047ejQZGde"
      }
    },
    {
      "cell_type": "markdown",
      "source": [
        "DATA PREPROCESSING DENGAN NUMPY"
      ],
      "metadata": {
        "id": "s5e40jyCZZ2U"
      }
    },
    {
      "cell_type": "code",
      "source": [
        "import numpy as np"
      ],
      "metadata": {
        "id": "A_j69qDQahbX"
      },
      "execution_count": null,
      "outputs": []
    },
    {
      "cell_type": "code",
      "source": [
        "import numpy as np\n",
        "\n",
        "# ==========================================\n",
        "# TASK: Implementasi Preprocessing Pipeline dengan NumPy\n",
        "# ==========================================\n",
        "\n",
        "# Dataset simulasi: 100 samples, 5 features\n",
        "np.random.seed(42)\n",
        "X = np.random.randn(100, 5) * 10 + 5   # Distribusi Normal (mean=5, std=10)\n",
        "\n",
        "# ------------------------------------------------------\n",
        "# TASK 1: Normalisasi Z-score\n",
        "# Rumus: (x - mean) / std\n",
        "# Tujuan: semua fitur punya rata-rata ~0 dan std ~1\n",
        "# ------------------------------------------------------\n",
        "def z_score_normalization(data):\n",
        "    mean = np.mean(data, axis=0)   # rata-rata tiap fitur (kolom)\n",
        "    std = np.std(data, axis=0)     # standar deviasi tiap fitur\n",
        "    normalized = (data - mean) / std\n",
        "    return normalized\n",
        "\n",
        "X_normalized = z_score_normalization(X)\n",
        "\n",
        "# ------------------------------------------------------\n",
        "# TASK 2: Handle Outliers\n",
        "# Ganti nilai yang lebih dari 3 * std jadi batas bawah/atas\n",
        "# ------------------------------------------------------\n",
        "def handle_outliers(data, std_threshold=3):\n",
        "    mean = np.mean(data, axis=0)\n",
        "    std = np.std(data, axis=0)\n",
        "\n",
        "    lower_bound = mean - std_threshold * std\n",
        "    upper_bound = mean + std_threshold * std\n",
        "\n",
        "    # Clip: nilai di luar batas diganti jadi batas\n",
        "    cleaned = np.clip(data, lower_bound, upper_bound)\n",
        "    return cleaned\n",
        "\n",
        "X_cleaned = handle_outliers(X_normalized)\n",
        "\n",
        "# ------------------------------------------------------\n",
        "# TASK 3: One-Hot Encoding untuk label kategorikal\n",
        "# Contoh: label [0,1,2,0] -> one-hot [[1,0,0],[0,1,0],[0,0,1],[1,0,0]]\n",
        "# ------------------------------------------------------\n",
        "def one_hot_encoding(labels):\n",
        "    n_classes = len(np.unique(labels))\n",
        "    n_samples = len(labels)\n",
        "\n",
        "    one_hot = np.zeros((n_samples, n_classes))\n",
        "    for i, label in enumerate(labels):\n",
        "        one_hot[i, label] = 1\n",
        "    return one_hot\n",
        "\n",
        "labels = np.array([0, 1, 2, 0, 1, 2, 0])\n",
        "one_hot_labels = one_hot_encoding(labels)\n",
        "\n",
        "# ------------------------------------------------------\n",
        "# TASK 4: Train-Test Split (manual)\n",
        "# Tujuan: pisahkan data jadi train set dan test set\n",
        "# ------------------------------------------------------\n",
        "def train_test_split_numpy(X, y, test_size=0.2):\n",
        "    n_samples = X.shape[0]\n",
        "    n_test = int(n_samples * test_size)\n",
        "\n",
        "    # Acak indeks\n",
        "    indices = np.random.permutation(n_samples)\n",
        "\n",
        "    test_indices = indices[:n_test]\n",
        "    train_indices = indices[n_test:]\n",
        "\n",
        "    # Ambil data sesuai indeks\n",
        "    X_train = X[train_indices]\n",
        "    X_test = X[test_indices]\n",
        "    y_train = y[train_indices]\n",
        "    y_test = y[test_indices]\n",
        "\n",
        "    return X_train, X_test, y_train, y_test\n",
        "\n",
        "# Generate sample labels untuk split\n",
        "y = np.random.randint(0, 3, 100)\n",
        "X_train, X_test, y_train, y_test = train_test_split_numpy(X, y, test_size=0.2)\n",
        "\n",
        "# ------------------------------------------------------\n",
        "# OUTPUT\n",
        "# ------------------------------------------------------\n",
        "print(\"Original data shape     :\", X.shape)\n",
        "print(\"Normalized data mean    :\", np.mean(X_normalized, axis=0).round(3))\n",
        "print(\"Normalized data std     :\", np.std(X_normalized, axis=0).round(3))\n",
        "print(\"One-hot labels shape    :\", one_hot_labels.shape)\n",
        "print(\"One-hot labels:\\n\", one_hot_labels)\n",
        "print(\"Train shape:\", X_train.shape, \" | Test shape:\", X_test.shape)\n",
        "\n",
        "# ------------------------------------------------------\n",
        "# TEST ASSERTIONS (untuk memastikan hasil benar)\n",
        "# ------------------------------------------------------\n",
        "assert X_normalized.shape == X.shape, \"Shape should remain same\"\n",
        "assert np.allclose(X_normalized.mean(axis=0), 0, atol=1e-10), \"Mean should be ~0 after z-score\"\n",
        "assert np.allclose(X_normalized.std(axis=0), 1, atol=1e-10), \"Std should be ~1 after z-score\"\n"
      ],
      "metadata": {
        "colab": {
          "base_uri": "https://localhost:8080/"
        },
        "id": "enO0AeleZYqN",
        "outputId": "9a73595c-8d14-4791-f169-d5a6f4c0c4fd"
      },
      "execution_count": null,
      "outputs": [
        {
          "output_type": "stream",
          "name": "stdout",
          "text": [
            "Original data shape     : (100, 5)\n",
            "Normalized data mean    : [-0.  0. -0. -0.  0.]\n",
            "Normalized data std     : [1. 1. 1. 1. 1.]\n",
            "One-hot labels shape    : (7, 3)\n",
            "One-hot labels:\n",
            " [[1. 0. 0.]\n",
            " [0. 1. 0.]\n",
            " [0. 0. 1.]\n",
            " [1. 0. 0.]\n",
            " [0. 1. 0.]\n",
            " [0. 0. 1.]\n",
            " [1. 0. 0.]]\n",
            "Train shape: (80, 5)  | Test shape: (20, 5)\n"
          ]
        }
      ]
    }
  ]
}