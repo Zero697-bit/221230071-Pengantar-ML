{
  "nbformat": 4,
  "nbformat_minor": 0,
  "metadata": {
    "colab": {
      "provenance": [],
      "authorship_tag": "ABX9TyMJGsxsTGAMTlBTntyUIESC",
      "include_colab_link": true
    },
    "kernelspec": {
      "name": "python3",
      "display_name": "Python 3"
    },
    "language_info": {
      "name": "python"
    }
  },
  "cells": [
    {
      "cell_type": "markdown",
      "metadata": {
        "id": "view-in-github",
        "colab_type": "text"
      },
      "source": [
        "<a href=\"https://colab.research.google.com/github/Zero697-bit/221230071-Pengantar-ML/blob/main/week-02/latihan_praktikum_1_list_dictionary.ipynb\" target=\"_parent\"><img src=\"https://colab.research.google.com/assets/colab-badge.svg\" alt=\"Open In Colab\"/></a>"
      ]
    },
    {
      "cell_type": "markdown",
      "source": [
        "# 🏋️ LATIHAN 1: OPERASI LIST DAN DICTIONARY\n",
        "### OPERASI LIST ###\n"
      ],
      "metadata": {
        "id": "dKTWQiLPOg_h"
      }
    },
    {
      "cell_type": "code",
      "source": [
        "# ==========================================\n",
        "# TASK: Manipulasi Data List untuk Preprocessing\n",
        "# ==========================================\n",
        "\n",
        "# Data mentah dari sensor suhu (dalam derajat Celcius)\n",
        "raw_data = [23.5, 24.1, 22.8, 25.3, 21.9, 26.7, 20.5, 24.8, 23.2, 25.9]\n",
        "\n",
        "# ------------------------------------------------------\n",
        "# TASK 1: Filter data yang berada di rentang 22 - 25 derajat\n",
        "# ------------------------------------------------------\n",
        "filtered_data = [x for x in raw_data if 22 <= x <= 25]\n",
        "\n",
        "# ------------------------------------------------------\n",
        "# TASK 2: Normalisasi data ke range 0 - 1 (Min-Max Scaling)\n",
        "# Rumus: (x - min) / (max - min)\n",
        "# ------------------------------------------------------\n",
        "min_val = min(raw_data)\n",
        "max_val = max(raw_data)\n",
        "\n",
        "normalized_data = [(x - min_val) / (max_val - min_val) for x in raw_data]\n",
        "\n",
        "# ------------------------------------------------------\n",
        "# TASK 3: Hitung Moving Average dengan window size = 3\n",
        "# Moving average = rata-rata dari beberapa data terakhir\n",
        "# ------------------------------------------------------\n",
        "def moving_average(data, window_size):\n",
        "    moving_avgs = []\n",
        "    # loop sampai indeks terakhir yang memungkinkan\n",
        "    for i in range(len(data) - window_size + 1):\n",
        "        window = data[i:i + window_size]  # potong list sesuai ukuran window\n",
        "        avg = sum(window) / window_size   # hitung rata-rata\n",
        "        moving_avgs.append(avg)\n",
        "    return moving_avgs\n",
        "\n",
        "ma_result = moving_average(raw_data, 3)\n",
        "\n",
        "# ------------------------------------------------------\n",
        "# OUTPUT\n",
        "# ------------------------------------------------------\n",
        "print(\"Raw data               :\", raw_data)\n",
        "print(\"Filtered data (22-25)  :\", filtered_data)\n",
        "print(\"Normalized data        :\", [round(x, 3) for x in normalized_data])\n",
        "print(\"Moving average (win=3) :\", [round(x, 3) for x in ma_result])\n"
      ],
      "metadata": {
        "colab": {
          "base_uri": "https://localhost:8080/"
        },
        "id": "aSoEmR74Ois_",
        "outputId": "5615daec-f5ba-4e6b-f391-d1c833177126"
      },
      "execution_count": null,
      "outputs": [
        {
          "output_type": "stream",
          "name": "stdout",
          "text": [
            "Raw data               : [23.5, 24.1, 22.8, 25.3, 21.9, 26.7, 20.5, 24.8, 23.2, 25.9]\n",
            "Filtered data (22-25)  : [23.5, 24.1, 22.8, 24.8, 23.2]\n",
            "Normalized data        : [0.484, 0.581, 0.371, 0.774, 0.226, 1.0, 0.0, 0.694, 0.435, 0.871]\n",
            "Moving average (win=3) : [23.467, 24.067, 23.333, 24.633, 23.033, 24.0, 22.833, 24.633]\n"
          ]
        }
      ]
    },
    {
      "cell_type": "markdown",
      "source": [
        "OPERASI DICTIONARY"
      ],
      "metadata": {
        "id": "1PA--iSJUWBi"
      }
    },
    {
      "cell_type": "code",
      "source": [
        "# ==========================================\n",
        "# TASK: Processing Dataset untuk Machine Learning\n",
        "# ==========================================\n",
        "\n",
        "# Dataset sample (list of dictionary)\n",
        "# Setiap item punya 'features' (list angka) dan 'label' (kelas)\n",
        "dataset = [\n",
        "    {'features': [1.2, 3.4, 2.1], 'label': 'class_A'},\n",
        "    {'features': [2.3, 1.5, 4.2], 'label': 'class_B'},\n",
        "    {'features': [3.1, 2.8, 1.9], 'label': 'class_A'},\n",
        "    {'features': [4.2, 3.9, 2.5], 'label': 'class_B'}\n",
        "]\n",
        "\n",
        "# ------------------------------------------------------\n",
        "# TASK 4: Kelompokkan data berdasarkan label (class_A / class_B)\n",
        "# Hasil berupa dictionary: {label: [daftar_features]}\n",
        "# ------------------------------------------------------\n",
        "def group_by_label(data):\n",
        "    grouped = {}\n",
        "    for item in data:\n",
        "        label = item['label']         # ambil label\n",
        "        features = item['features']   # ambil fitur\n",
        "        if label not in grouped:      # jika label belum ada, buat list baru\n",
        "            grouped[label] = []\n",
        "        grouped[label].append(features)  # tambahkan fitur ke label\n",
        "    return grouped\n",
        "\n",
        "grouped_data = group_by_label(dataset)\n",
        "\n",
        "# ------------------------------------------------------\n",
        "# TASK 5: Hitung rata-rata features per kelas\n",
        "# Caranya: jumlahkan tiap kolom fitur, lalu bagi jumlah data per kelas\n",
        "# ------------------------------------------------------\n",
        "def average_features_per_class(grouped_data):\n",
        "    averages = {}\n",
        "    for label, features_list in grouped_data.items():\n",
        "        n_features = len(features_list[0])  # jumlah fitur (misal: 3)\n",
        "        sums = [0] * n_features             # inisialisasi penjumlahan\n",
        "\n",
        "        # jumlahkan tiap fitur\n",
        "        for features in features_list:\n",
        "            for i, val in enumerate(features):\n",
        "                sums[i] += val\n",
        "\n",
        "        # hitung rata-rata\n",
        "        averages[label] = [s / len(features_list) for s in sums]\n",
        "    return averages\n",
        "\n",
        "avg_features = average_features_per_class(grouped_data)\n",
        "\n",
        "# ------------------------------------------------------\n",
        "# OUTPUT\n",
        "# ------------------------------------------------------\n",
        "print(\"\\nGrouped data by label:\")\n",
        "for label, features in grouped_data.items():\n",
        "    print(f\"{label}: {features}\")\n",
        "\n",
        "print(\"\\nAverage features per class:\")\n",
        "for label, avg in avg_features.items():\n",
        "    print(f\"{label}: {[round(x, 3) for x in avg]}\")\n",
        "\n",
        "# ------------------------------------------------------\n",
        "# TEST ASSERTIONS (untuk memastikan hasil benar)\n",
        "# ------------------------------------------------------\n",
        "assert 'class_A' in grouped_data, \"Should contain class_A\"\n",
        "assert 'class_B' in grouped_data, \"Should contain class_B\"\n"
      ],
      "metadata": {
        "id": "xQ2txcv48DPs",
        "colab": {
          "base_uri": "https://localhost:8080/"
        },
        "outputId": "7a7da100-111b-48bd-8eb0-944b6fc9667e"
      },
      "execution_count": null,
      "outputs": [
        {
          "output_type": "stream",
          "name": "stdout",
          "text": [
            "\n",
            "Grouped data by label:\n",
            "class_A: [[1.2, 3.4, 2.1], [3.1, 2.8, 1.9]]\n",
            "class_B: [[2.3, 1.5, 4.2], [4.2, 3.9, 2.5]]\n",
            "\n",
            "Average features per class:\n",
            "class_A: [2.15, 3.1, 2.0]\n",
            "class_B: [3.25, 2.7, 3.35]\n"
          ]
        }
      ]
    }
  ]
}